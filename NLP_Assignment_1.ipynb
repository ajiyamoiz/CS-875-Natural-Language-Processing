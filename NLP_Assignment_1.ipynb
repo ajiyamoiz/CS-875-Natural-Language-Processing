{
  "nbformat": 4,
  "nbformat_minor": 0,
  "metadata": {
    "colab": {
      "provenance": [],
      "authorship_tag": "ABX9TyO0Do8RwENO04xgyVtJI1y7"
    },
    "kernelspec": {
      "name": "python3",
      "display_name": "Python 3"
    },
    "language_info": {
      "name": "python"
    }
  },
  "cells": [
    {
      "cell_type": "markdown",
      "source": [
        "# NLP Assignment 1"
      ],
      "metadata": {
        "id": "fOJhhE3xgrGH"
      }
    },
    {
      "cell_type": "markdown",
      "source": [
        "In this assignment you will prepare your own dataset of movies and pre-process the text.\n",
        "\n",
        "\n",
        "### Dataset Access APIs\n",
        "\n",
        "The dataset will be prepared using TMDB API. The API has two interfaces. First interface gives the page wise list of movies and the second API gives the list of genres as under:-\n",
        "\n",
        "\n",
        "### • Movies List\n",
        "\n",
        "This api gives page wise list of movies. There are total 471 pages exposed by the this interface. You can fetch the JSON file of each page by calling following URL while mentioning page number at the end as query parameter as shown below\n",
        "\n",
        "https://api.themoviedb.org/3/movie/top_rated?api_key=8265bd1679663a7ea12ac168da84d2e8&language=en-US&page=PAGE_NO\n",
        "\n",
        "\n",
        "For example to get first page, the PI call will be\n",
        "\n",
        "https://api.themoviedb.org/3/movie/top_rated?api_key=8265bd1679663a7ea12ac168da84d2e8&language=en-US&page=1\n",
        "\n",
        "\n",
        "while to get page 20 , the API call will be\n",
        "\n",
        "https://api.themoviedb.org/3/movie/top_rated?api_key=8265bd1679663a7ea12ac168da84d2e8&language=en-US&page=20\n"
      ],
      "metadata": {
        "id": "TRjGkLTCgGR_"
      }
    },
    {
      "cell_type": "code",
      "source": [
        "import os\n",
        "\n",
        "# Mount Google Drive\n",
        "from google.colab import drive\n",
        "drive.mount('/content/drive', force_remount=True)"
      ],
      "metadata": {
        "colab": {
          "base_uri": "https://localhost:8080/"
        },
        "id": "k__2cq3wxRJG",
        "outputId": "c4826ee0-636b-4911-cea2-0a1e91e4bc2d"
      },
      "execution_count": null,
      "outputs": [
        {
          "output_type": "stream",
          "name": "stdout",
          "text": [
            "Mounted at /content/drive\n"
          ]
        }
      ]
    },
    {
      "cell_type": "markdown",
      "source": [
        "## Dataset"
      ],
      "metadata": {
        "id": "LnLWj2zyvFZ3"
      }
    },
    {
      "cell_type": "code",
      "source": [
        "import requests\n",
        "import json\n",
        "import time\n",
        "\n",
        "api_key = \"2666c14f12b8bfa12d0a5c7c1ae8389b\"\n",
        "base_url = \"https://api.themoviedb.org/3/movie/top_rated\"\n",
        "\n",
        "# Define the path where you want to save the dataset in your Google Drive\n",
        "save_path = '/content/drive/MyDrive/Colab Notebooks/Natural Language Processing/movies_dataset.json'\n",
        "\n",
        "def fetch_movies(page):\n",
        "    params = {\n",
        "        'api_key': api_key,\n",
        "        'language': 'en-US',\n",
        "        'page': page\n",
        "    }\n",
        "    response = requests.get(base_url, params=params)\n",
        "\n",
        "    if response.status_code == 200:\n",
        "        return response.json()\n",
        "    else:\n",
        "        print(f\"Error fetching data for page {page}. Status code: {response.status_code}\")\n",
        "        return None\n",
        "\n",
        "def create_movie_dataset(num_pages):\n",
        "    dataset = []\n",
        "\n",
        "    for page in range(1, num_pages + 1):\n",
        "        movie_data = fetch_movies(page)\n",
        "\n",
        "        if movie_data:\n",
        "            dataset.extend(movie_data['results'])\n",
        "            time.sleep(1)  # To avoid hitting API rate limits\n",
        "\n",
        "    return dataset\n",
        "\n",
        "num_pages = 471  # Total number of pages available\n",
        "movie_dataset = create_movie_dataset(num_pages)\n",
        "\n",
        "# Save the dataset to Google Drive as a JSON file\n",
        "with open(save_path, 'w') as file:\n",
        "    json.dump(movie_dataset, file)\n"
      ],
      "metadata": {
        "id": "Zv2qrC5Yw-FI"
      },
      "execution_count": null,
      "outputs": []
    },
    {
      "cell_type": "markdown",
      "source": [
        "## Text Preprocessing"
      ],
      "metadata": {
        "id": "qPI6s_uCyUgE"
      }
    },
    {
      "cell_type": "code",
      "source": [
        "import pandas as pd\n",
        "import nltk\n",
        "from nltk.tokenize import word_tokenize\n",
        "from nltk.stem import PorterStemmer\n",
        "from nltk.probability import FreqDist\n",
        "from nltk.corpus import stopwords\n",
        "nltk.download('stopwords')\n",
        "nltk.download('punkt')\n",
        "import matplotlib.pyplot as plt"
      ],
      "metadata": {
        "colab": {
          "base_uri": "https://localhost:8080/"
        },
        "id": "JMh6WEAHyYwn",
        "outputId": "afa8bc8c-eb96-4303-b62a-8d4a3cbce81f"
      },
      "execution_count": null,
      "outputs": [
        {
          "output_type": "stream",
          "name": "stderr",
          "text": [
            "[nltk_data] Downloading package stopwords to /root/nltk_data...\n",
            "[nltk_data]   Unzipping corpora/stopwords.zip.\n",
            "[nltk_data] Downloading package punkt to /root/nltk_data...\n",
            "[nltk_data]   Unzipping tokenizers/punkt.zip.\n"
          ]
        },
        {
          "output_type": "execute_result",
          "data": {
            "text/plain": [
              "True"
            ]
          },
          "metadata": {},
          "execution_count": 3
        }
      ]
    },
    {
      "cell_type": "code",
      "source": [
        "# Load the JSON dataset into a DataFrame\n",
        "df = pd.read_json(save_path)\n",
        "\n",
        "# Combine title and overview into a single text column\n",
        "df['text_data'] = df['title'] + ' ' + df['overview']\n",
        "\n",
        "# Lowercase the text\n",
        "df['text_data'] = df['text_data'].str.lower()\n",
        "\n",
        "# Tokenize the text\n",
        "df['tokens'] = df['text_data'].apply(word_tokenize)\n",
        "\n",
        "# Remove stopwords\n",
        "stop_words = set(stopwords.words('english'))\n",
        "df['filtered_tokens'] = df['tokens'].apply(lambda tokens: [word for word in tokens if word not in stop_words])\n",
        "\n",
        "# Stemming\n",
        "stemmer = PorterStemmer()\n",
        "df['stemmed_tokens'] = df['filtered_tokens'].apply(lambda tokens: [stemmer.stem(word) for word in tokens])\n"
      ],
      "metadata": {
        "id": "nIyUttz50bzo"
      },
      "execution_count": null,
      "outputs": []
    },
    {
      "cell_type": "markdown",
      "source": [
        "Analysis of processed text data"
      ],
      "metadata": {
        "id": "zQy5TAd_12lc"
      }
    },
    {
      "cell_type": "code",
      "source": [
        "# Calculate word frequencies\n",
        "all_tokens = [word for tokens in df['stemmed_tokens'] for word in tokens]\n",
        "freq_dist = FreqDist(all_tokens)\n",
        "\n",
        "# Plot the most common words\n",
        "plt.figure(figsize=(12, 6))\n",
        "freq_dist.plot(20, cumulative=False)\n",
        "plt.show()\n"
      ],
      "metadata": {
        "colab": {
          "base_uri": "https://localhost:8080/",
          "height": 575
        },
        "id": "k6aHeIU91A0O",
        "outputId": "f3cd3ba6-194d-4f7a-f583-b095cc6d6891"
      },
      "execution_count": null,
      "outputs": [
        {
          "output_type": "display_data",
          "data": {
            "text/plain": [
              "<Figure size 1200x600 with 1 Axes>"
            ],
            "image/png": "[encoded data removed]"
          },
          "metadata": {}
        }
      ]
    }
  ]
}